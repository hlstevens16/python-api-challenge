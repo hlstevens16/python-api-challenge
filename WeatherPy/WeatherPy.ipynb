{
 "cells": [
  {
   "cell_type": "markdown",
   "metadata": {},
   "source": [
    "# WeatherPy\n",
    "----\n",
    "\n",
    "#### Analysis\n",
    "1. In the southern hemisphere, there is a strong correlation between max temp and latitude, because the closer you get to the equator, the warmer it gets! Less stong in the northern hemisphere, but the theory still applys. \n",
    "2. There is no correlation between humidity and latitude. Humidity has more to do with water evaporation vs. latitude. Same with cloudiness, and also no correlation with latitude. \n",
    "3. There is no correlation between wind speed and latitude, because wind speed is due to differences in atmospheric pressure which ranges at various latitudes. "
   ]
  },
  {
   "cell_type": "code",
   "execution_count": 1,
   "metadata": {},
   "outputs": [],
   "source": [
    "#pip install citipy"
   ]
  },
  {
   "cell_type": "code",
   "execution_count": 1,
   "metadata": {
    "scrolled": true
   },
   "outputs": [],
   "source": [
    "# Dependencies and Setup\n",
    "import matplotlib.pyplot as plt\n",
    "import pandas as pd\n",
    "import numpy as np\n",
    "import requests\n",
    "import time\n",
    "import scipy.stats as st\n",
    "from scipy.stats import linregress\n",
    "import os\n",
    "import datetime\n",
    "\n",
    "# Import API key\n",
    "from api_keys import weather_api_key\n",
    "\n",
    "# Incorporated citipy to determine city based on latitude and longitude\n",
    "from citipy import citipy\n",
    "\n",
    "# Output File (CSV)\n",
    "output_data_file = \"output_data/cities.csv\"\n",
    "\n",
    "# Range of latitudes and longitudes\n",
    "lat_range = (-90, 90)\n",
    "lng_range = (-180, 180)"
   ]
  },
  {
   "cell_type": "markdown",
   "metadata": {},
   "source": [
    "## Generate Cities List"
   ]
  },
  {
   "cell_type": "code",
   "execution_count": 2,
   "metadata": {},
   "outputs": [
    {
     "data": {
      "text/plain": [
       "620"
      ]
     },
     "execution_count": 2,
     "metadata": {},
     "output_type": "execute_result"
    }
   ],
   "source": [
    "# List for holding lat_lngs and cities\n",
    "lat_lngs = []\n",
    "cities = []\n",
    "\n",
    "# Create a set of random lat and lng combinations\n",
    "lats = np.random.uniform(lat_range[0], lat_range[1], size=1500)\n",
    "lngs = np.random.uniform(lng_range[0], lng_range[1], size=1500)\n",
    "lat_lngs = zip(lats, lngs)\n",
    "\n",
    "# Identify nearest city for each lat, lng combination\n",
    "for lat_lng in lat_lngs:\n",
    "    city = citipy.nearest_city(lat_lng[0], lat_lng[1]).city_name\n",
    "    \n",
    "    # If the city is unique, then add it to a our cities list\n",
    "    if city not in cities:\n",
    "        cities.append(city)\n",
    "\n",
    "# Print the city count to confirm sufficient count\n",
    "len(cities)"
   ]
  },
  {
   "cell_type": "markdown",
   "metadata": {},
   "source": [
    "### Perform API Calls\n",
    "* Perform a weather check on each city using a series of successive API calls.\n",
    "* Include a print log of each city as it'sbeing processed (with the city number and city name).\n"
   ]
  },
  {
   "cell_type": "code",
   "execution_count": 3,
   "metadata": {},
   "outputs": [],
   "source": [
    "new_cities = []\n",
    "cloudiness = []\n",
    "country = []\n",
    "date = []\n",
    "humidity = []\n",
    "temp = []\n",
    "lat = []\n",
    "lng = []\n",
    "wind = []"
   ]
  },
  {
   "cell_type": "code",
   "execution_count": 4,
   "metadata": {},
   "outputs": [
    {
     "name": "stdout",
     "output_type": "stream",
     "text": [
      "------------------------\n",
      "Beginning Data Retrieval\n",
      "------------------------\n",
      "Processing record 1 of set 1 | lompoc\n",
      "Processing record 2 of set 1 | banjar\n",
      "Processing record 3 of set 1 | taolanaro\n",
      "City not found. Skipping...\n",
      "Processing record 4 of set 1 | hermanus\n",
      "Processing record 5 of set 1 | rio grande\n",
      "Processing record 6 of set 1 | seoul\n",
      "Processing record 7 of set 1 | bredasdorp\n",
      "Processing record 8 of set 1 | quatre cocos\n",
      "Processing record 9 of set 1 | mataura\n",
      "Processing record 10 of set 1 | hilo\n",
      "Processing record 11 of set 1 | avarua\n",
      "Processing record 12 of set 1 | umzimvubu\n",
      "City not found. Skipping...\n",
      "Processing record 13 of set 1 | talara\n",
      "Processing record 14 of set 1 | rikitea\n",
      "Processing record 15 of set 1 | leningradskiy\n",
      "Processing record 16 of set 1 | kaitangata\n",
      "Processing record 17 of set 1 | alofi\n",
      "Processing record 18 of set 1 | ushuaia\n",
      "Processing record 19 of set 1 | coquimbo\n",
      "Processing record 20 of set 1 | cordoba\n",
      "Processing record 21 of set 1 | georgetown\n",
      "Processing record 22 of set 1 | roald\n",
      "Processing record 23 of set 1 | cherskiy\n",
      "Processing record 24 of set 1 | sitka\n",
      "Processing record 25 of set 1 | busselton\n",
      "Processing record 26 of set 1 | nikolskoye\n",
      "Processing record 27 of set 1 | vostok\n",
      "Processing record 28 of set 1 | bouna\n",
      "Processing record 29 of set 1 | tuktoyaktuk\n",
      "Processing record 30 of set 1 | nizhneyansk\n",
      "City not found. Skipping...\n",
      "Processing record 31 of set 1 | xai-xai\n",
      "Processing record 32 of set 1 | jamestown\n",
      "Processing record 33 of set 1 | yellowknife\n",
      "Processing record 34 of set 1 | illoqqortoormiut\n",
      "City not found. Skipping...\n",
      "Processing record 35 of set 1 | lavrentiya\n",
      "Processing record 36 of set 1 | barrow\n",
      "Processing record 37 of set 1 | vila velha\n",
      "Processing record 38 of set 1 | punta arenas\n",
      "Processing record 39 of set 1 | conde\n",
      "Processing record 40 of set 1 | matara\n",
      "Processing record 41 of set 1 | cape town\n",
      "Processing record 42 of set 1 | fortuna\n",
      "Processing record 43 of set 1 | arraial do cabo\n",
      "Processing record 44 of set 1 | cedar city\n",
      "Processing record 45 of set 1 | butaritari\n",
      "Processing record 46 of set 1 | praia da vitoria\n",
      "Processing record 47 of set 1 | qaanaaq\n",
      "Processing record 48 of set 1 | los alamos\n",
      "Processing record 49 of set 1 | yar-sale\n",
      "Processing record 50 of set 1 | stornoway\n",
      "Processing record 0 of set 2 | alcaudete\n",
      "Processing record 1 of set 2 | urucui\n",
      "Processing record 2 of set 2 | castro\n",
      "Processing record 3 of set 2 | dudinka\n",
      "Processing record 4 of set 2 | nanortalik\n",
      "Processing record 5 of set 2 | new norfolk\n",
      "Processing record 6 of set 2 | avera\n",
      "Processing record 7 of set 2 | olinda\n",
      "Processing record 8 of set 2 | ravar\n",
      "Processing record 9 of set 2 | high level\n",
      "Processing record 10 of set 2 | saint-philippe\n",
      "Processing record 11 of set 2 | port elizabeth\n",
      "Processing record 12 of set 2 | hithadhoo\n",
      "Processing record 13 of set 2 | atuona\n",
      "Processing record 14 of set 2 | jumla\n",
      "Processing record 15 of set 2 | port alfred\n",
      "Processing record 16 of set 2 | kruisfontein\n",
      "Processing record 17 of set 2 | copiapo\n",
      "Processing record 18 of set 2 | fortuna foothills\n",
      "Processing record 19 of set 2 | ariquemes\n",
      "Processing record 20 of set 2 | east london\n",
      "Processing record 21 of set 2 | santiago del estero\n",
      "Processing record 22 of set 2 | guerrero negro\n",
      "Processing record 23 of set 2 | carnarvon\n",
      "Processing record 24 of set 2 | tilichiki\n",
      "Processing record 25 of set 2 | vestmannaeyjar\n",
      "Processing record 26 of set 2 | sandpoint\n",
      "Processing record 27 of set 2 | puerto escondido\n",
      "Processing record 28 of set 2 | palabuhanratu\n",
      "City not found. Skipping...\n",
      "Processing record 29 of set 2 | lasa\n",
      "Processing record 30 of set 2 | luderitz\n",
      "Processing record 31 of set 2 | puerto ayora\n",
      "Processing record 32 of set 2 | agirish\n",
      "Processing record 33 of set 2 | tsihombe\n",
      "City not found. Skipping...\n",
      "Processing record 34 of set 2 | barentsburg\n",
      "City not found. Skipping...\n",
      "Processing record 35 of set 2 | chokurdakh\n",
      "Processing record 36 of set 2 | grand gaube\n",
      "Processing record 37 of set 2 | amderma\n",
      "City not found. Skipping...\n",
      "Processing record 38 of set 2 | solnechnyy\n",
      "Processing record 39 of set 2 | kavaratti\n",
      "Processing record 40 of set 2 | phangnga\n",
      "Processing record 41 of set 2 | altay\n",
      "Processing record 42 of set 2 | negombo\n",
      "Processing record 43 of set 2 | kirensk\n",
      "Processing record 44 of set 2 | thompson\n",
      "Processing record 45 of set 2 | hervey bay\n",
      "Processing record 46 of set 2 | hasaki\n",
      "Processing record 47 of set 2 | albany\n",
      "Processing record 48 of set 2 | yavaros\n",
      "Processing record 49 of set 2 | tlaxiaco\n",
      "City not found. Skipping...\n",
      "Processing record 50 of set 2 | hobyo\n",
      "Processing record 0 of set 3 | ponta do sol\n",
      "Processing record 1 of set 3 | bilibino\n",
      "Processing record 2 of set 3 | belushya guba\n",
      "City not found. Skipping...\n",
      "Processing record 3 of set 3 | marcona\n",
      "City not found. Skipping...\n",
      "Processing record 4 of set 3 | tasiilaq\n",
      "Processing record 5 of set 3 | rawson\n",
      "Processing record 6 of set 3 | mazara del vallo\n",
      "Processing record 7 of set 3 | cabo san lucas\n",
      "Processing record 8 of set 3 | fukue\n",
      "Processing record 9 of set 3 | san cristobal\n",
      "Processing record 10 of set 3 | talnakh\n",
      "Processing record 11 of set 3 | moerai\n",
      "Processing record 12 of set 3 | markivka\n",
      "Processing record 13 of set 3 | tazmalt\n",
      "Processing record 14 of set 3 | bengkulu\n",
      "Processing record 15 of set 3 | anadyr\n",
      "Processing record 16 of set 3 | kyshtovka\n",
      "Processing record 17 of set 3 | kathu\n",
      "Processing record 18 of set 3 | caravelas\n",
      "Processing record 19 of set 3 | norman wells\n",
      "Processing record 20 of set 3 | hobart\n",
      "Processing record 21 of set 3 | ribeira grande\n",
      "Processing record 22 of set 3 | boca do acre\n",
      "Processing record 23 of set 3 | progreso\n",
      "Processing record 24 of set 3 | bluff\n",
      "Processing record 25 of set 3 | sabang\n",
      "Processing record 26 of set 3 | meyungs\n",
      "City not found. Skipping...\n",
      "Processing record 27 of set 3 | itarema\n",
      "Processing record 28 of set 3 | vaini\n",
      "Processing record 29 of set 3 | padang\n",
      "Processing record 30 of set 3 | ottawa\n",
      "Processing record 31 of set 3 | santa maria\n",
      "Processing record 32 of set 3 | upernavik\n",
      "Processing record 33 of set 3 | north platte\n",
      "Processing record 34 of set 3 | tahe\n",
      "Processing record 35 of set 3 | aksu\n",
      "Processing record 36 of set 3 | mazyr\n",
      "Processing record 37 of set 3 | chrzanow\n",
      "Processing record 38 of set 3 | mitu\n",
      "Processing record 39 of set 3 | taraz\n",
      "Processing record 40 of set 3 | teguise\n",
      "Processing record 41 of set 3 | kahului\n",
      "Processing record 42 of set 3 | flinders\n",
      "Processing record 43 of set 3 | batemans bay\n",
      "Processing record 44 of set 3 | verkhnevilyuysk\n",
      "Processing record 45 of set 3 | sao felix do xingu\n",
      "Processing record 46 of set 3 | birjand\n",
      "Processing record 47 of set 3 | karasjok\n",
      "Processing record 48 of set 3 | lorengau\n",
      "Processing record 49 of set 3 | geraldton\n",
      "Processing record 50 of set 3 | grand river south east\n",
      "City not found. Skipping...\n",
      "Processing record 0 of set 4 | utete\n",
      "Processing record 1 of set 4 | turbat\n",
      "Processing record 2 of set 4 | kununurra\n",
      "Processing record 3 of set 4 | clyde river\n",
      "Processing record 4 of set 4 | alice springs\n",
      "Processing record 5 of set 4 | esperance\n",
      "Processing record 6 of set 4 | port lincoln\n",
      "Processing record 7 of set 4 | mergui\n",
      "City not found. Skipping...\n",
      "Processing record 8 of set 4 | pangnirtung\n",
      "Processing record 9 of set 4 | hofn\n",
      "Processing record 10 of set 4 | dunedin\n",
      "Processing record 11 of set 4 | koslan\n",
      "Processing record 12 of set 4 | palimbang\n",
      "Processing record 13 of set 4 | poum\n",
      "Processing record 14 of set 4 | victoria\n",
      "Processing record 15 of set 4 | aklavik\n",
      "Processing record 16 of set 4 | meadow lake\n",
      "Processing record 17 of set 4 | bethel\n",
      "Processing record 18 of set 4 | lagoa\n",
      "Processing record 19 of set 4 | aripuana\n",
      "Processing record 20 of set 4 | trinidad\n",
      "Processing record 21 of set 4 | hamina\n",
      "Processing record 22 of set 4 | kapaa\n",
      "Processing record 23 of set 4 | ilo\n",
      "Processing record 24 of set 4 | samusu\n",
      "City not found. Skipping...\n",
      "Processing record 25 of set 4 | nabire\n",
      "Processing record 26 of set 4 | valley city\n",
      "Processing record 27 of set 4 | te anau\n",
      "Processing record 28 of set 4 | mahibadhoo\n",
      "Processing record 29 of set 4 | iqaluit\n",
      "Processing record 30 of set 4 | neyshabur\n",
      "Processing record 31 of set 4 | smyrna\n",
      "Processing record 32 of set 4 | atar\n",
      "Processing record 33 of set 4 | ozinki\n",
      "Processing record 34 of set 4 | salamiyah\n",
      "Processing record 35 of set 4 | funza\n",
      "Processing record 36 of set 4 | cayenne\n",
      "Processing record 37 of set 4 | porterville\n",
      "Processing record 38 of set 4 | beboto\n",
      "Processing record 39 of set 4 | anito\n",
      "Processing record 40 of set 4 | malanje\n",
      "Processing record 41 of set 4 | rocha\n",
      "Processing record 42 of set 4 | ilulissat\n",
      "Processing record 43 of set 4 | khatanga\n",
      "Processing record 44 of set 4 | baykit\n",
      "Processing record 45 of set 4 | tarauaca\n",
      "Processing record 46 of set 4 | olot\n",
      "Processing record 47 of set 4 | zalantun\n",
      "Processing record 48 of set 4 | artyk\n",
      "City not found. Skipping...\n",
      "Processing record 49 of set 4 | mount gambier\n",
      "Processing record 50 of set 4 | torbay\n",
      "Processing record 0 of set 5 | senekal\n",
      "Processing record 1 of set 5 | isangel\n",
      "Processing record 2 of set 5 | neenah\n",
      "Processing record 3 of set 5 | whyalla\n",
      "Processing record 4 of set 5 | borisovka\n",
      "Processing record 5 of set 5 | katsuura\n",
      "Processing record 6 of set 5 | birao\n",
      "Processing record 7 of set 5 | tuatapere\n",
      "Processing record 8 of set 5 | tumannyy\n",
      "City not found. Skipping...\n",
      "Processing record 9 of set 5 | chuy\n",
      "Processing record 10 of set 5 | qandahar\n",
      "City not found. Skipping...\n",
      "Processing record 11 of set 5 | port keats\n",
      "Processing record 12 of set 5 | ixtapa\n",
      "Processing record 13 of set 5 | roskovec\n",
      "Processing record 14 of set 5 | saleaula\n",
      "City not found. Skipping...\n",
      "Processing record 15 of set 5 | souillac\n",
      "Processing record 16 of set 5 | cootamundra\n",
      "Processing record 17 of set 5 | konde\n",
      "Processing record 18 of set 5 | cap malheureux\n",
      "Processing record 19 of set 5 | hasanabad\n",
      "Processing record 20 of set 5 | vitimskiy\n",
      "City not found. Skipping...\n",
      "Processing record 21 of set 5 | cockburn town\n",
      "Processing record 22 of set 5 | nome\n",
      "Processing record 23 of set 5 | tupelo\n",
      "Processing record 24 of set 5 | jasper\n",
      "Processing record 25 of set 5 | bodden town\n",
      "Processing record 26 of set 5 | faanui\n",
      "Processing record 27 of set 5 | dikson\n",
      "Processing record 28 of set 5 | medicine hat\n",
      "Processing record 29 of set 5 | la ronge\n",
      "Processing record 30 of set 5 | golden\n",
      "Processing record 31 of set 5 | chagda\n",
      "City not found. Skipping...\n",
      "Processing record 32 of set 5 | pratteln\n",
      "Processing record 33 of set 5 | guiyang\n",
      "Processing record 34 of set 5 | awjilah\n",
      "Processing record 35 of set 5 | cururupu\n",
      "Processing record 36 of set 5 | pevek\n",
      "Processing record 37 of set 5 | victoria point\n",
      "Processing record 38 of set 5 | andros town\n",
      "Processing record 39 of set 5 | brae\n",
      "Processing record 40 of set 5 | gigmoto\n",
      "Processing record 41 of set 5 | mazagao\n",
      "Processing record 42 of set 5 | kawana waters\n",
      "City not found. Skipping...\n",
      "Processing record 43 of set 5 | kuantan\n",
      "Processing record 44 of set 5 | poshekhonye\n",
      "Processing record 45 of set 5 | hamilton\n",
      "Processing record 46 of set 5 | boa vista\n",
      "Processing record 47 of set 5 | bonfim\n",
      "Processing record 48 of set 5 | surt\n",
      "Processing record 49 of set 5 | college\n",
      "Processing record 50 of set 5 | borger\n",
      "Processing record 0 of set 6 | campoverde\n",
      "Processing record 1 of set 6 | suraabad\n",
      "Processing record 2 of set 6 | baherden\n",
      "Processing record 3 of set 6 | khunti\n",
      "Processing record 4 of set 6 | nouadhibou\n",
      "Processing record 5 of set 6 | klaksvik\n",
      "Processing record 6 of set 6 | saskylakh\n",
      "Processing record 7 of set 6 | pinega\n",
      "Processing record 8 of set 6 | vardo\n",
      "Processing record 9 of set 6 | ust-nera\n",
      "Processing record 10 of set 6 | newport\n",
      "Processing record 11 of set 6 | monticello\n",
      "Processing record 12 of set 6 | dalby\n",
      "Processing record 13 of set 6 | san patricio\n",
      "Processing record 14 of set 6 | oistins\n",
      "Processing record 15 of set 6 | dien bien\n",
      "City not found. Skipping...\n",
      "Processing record 16 of set 6 | sabratah\n",
      "Processing record 17 of set 6 | zimmi\n",
      "Processing record 18 of set 6 | yuzhno-kurilsk\n",
      "Processing record 19 of set 6 | biltine\n",
      "Processing record 20 of set 6 | porto novo\n",
      "Processing record 21 of set 6 | erenhot\n",
      "Processing record 22 of set 6 | visimo-utkinsk\n",
      "City not found. Skipping...\n",
      "Processing record 23 of set 6 | kargil\n",
      "Processing record 24 of set 6 | bambous virieux\n",
      "Processing record 25 of set 6 | namibe\n",
      "Processing record 26 of set 6 | abu jubayhah\n",
      "City not found. Skipping...\n",
      "Processing record 27 of set 6 | markova\n",
      "Processing record 28 of set 6 | nayoro\n",
      "Processing record 29 of set 6 | krasnozerskoye\n",
      "Processing record 30 of set 6 | taree\n",
      "Processing record 31 of set 6 | narsaq\n",
      "Processing record 32 of set 6 | lebu\n",
      "Processing record 33 of set 6 | tevaitoa\n",
      "Processing record 34 of set 6 | duobao\n",
      "Processing record 35 of set 6 | ovsyanka\n",
      "Processing record 36 of set 6 | port hawkesbury\n",
      "Processing record 37 of set 6 | hualmay\n",
      "Processing record 38 of set 6 | bara\n",
      "Processing record 39 of set 6 | kijang\n",
      "Processing record 40 of set 6 | tezu\n",
      "Processing record 41 of set 6 | gusau\n",
      "Processing record 42 of set 6 | auki\n",
      "Processing record 43 of set 6 | gogrial\n",
      "Processing record 44 of set 6 | otradnoye\n",
      "Processing record 45 of set 6 | norrtalje\n",
      "Processing record 46 of set 6 | codrington\n",
      "Processing record 47 of set 6 | farafangana\n",
      "Processing record 48 of set 6 | ugoofaaru\n",
      "Processing record 49 of set 6 | traverse city\n",
      "Processing record 50 of set 6 | vao\n",
      "Processing record 0 of set 7 | kodiak\n",
      "Processing record 1 of set 7 | kurinjippadi\n",
      "Processing record 2 of set 7 | leua\n",
      "Processing record 3 of set 7 | puerto del rosario\n",
      "Processing record 4 of set 7 | el balyana\n",
      "City not found. Skipping...\n",
      "Processing record 5 of set 7 | khonuu\n",
      "City not found. Skipping...\n",
      "Processing record 6 of set 7 | liverpool\n",
      "Processing record 7 of set 7 | husavik\n",
      "Processing record 8 of set 7 | emba\n",
      "Processing record 9 of set 7 | chipata\n",
      "Processing record 10 of set 7 | chumikan\n",
      "Processing record 11 of set 7 | mahebourg\n",
      "Processing record 12 of set 7 | ndele\n",
      "Processing record 13 of set 7 | sept-iles\n",
      "Processing record 14 of set 7 | mys shmidta\n",
      "City not found. Skipping...\n",
      "Processing record 15 of set 7 | mtwara\n",
      "Processing record 16 of set 7 | tottori\n",
      "Processing record 17 of set 7 | perth\n",
      "Processing record 18 of set 7 | broome\n",
      "Processing record 19 of set 7 | tabuk\n",
      "Processing record 20 of set 7 | kavieng\n",
      "Processing record 21 of set 7 | tucuman\n",
      "Processing record 22 of set 7 | romny\n",
      "Processing record 23 of set 7 | chernyshevskiy\n",
      "Processing record 24 of set 7 | egvekinot\n",
      "Processing record 25 of set 7 | ndola\n",
      "Processing record 26 of set 7 | boromo\n",
      "Processing record 27 of set 7 | nantucket\n",
      "Processing record 28 of set 7 | port-cartier\n",
      "Processing record 29 of set 7 | tura\n",
      "Processing record 30 of set 7 | xinqing\n",
      "Processing record 31 of set 7 | kailua\n",
      "Processing record 32 of set 7 | haines junction\n",
      "Processing record 33 of set 7 | terme\n",
      "Processing record 34 of set 7 | mitsamiouli\n",
      "Processing record 35 of set 7 | cidreira\n",
      "Processing record 36 of set 7 | dicabisagan\n",
      "Processing record 37 of set 7 | margate\n",
      "Processing record 38 of set 7 | arshan\n",
      "Processing record 39 of set 7 | biscarrosse\n",
      "Processing record 40 of set 7 | nesna\n",
      "Processing record 41 of set 7 | kendari\n",
      "Processing record 42 of set 7 | basoko\n",
      "Processing record 43 of set 7 | tarakan\n",
      "Processing record 44 of set 7 | camp verde\n",
      "Processing record 45 of set 7 | stege\n",
      "Processing record 46 of set 7 | ngunguru\n",
      "Processing record 47 of set 7 | bilma\n",
      "Processing record 48 of set 7 | new amsterdam\n",
      "Processing record 49 of set 7 | morant bay\n",
      "Processing record 50 of set 7 | krasnogorskoye\n",
      "Processing record 0 of set 8 | kushchevskaya\n",
      "Processing record 1 of set 8 | aflu\n",
      "City not found. Skipping...\n",
      "Processing record 2 of set 8 | karratha\n",
      "Processing record 3 of set 8 | beypur\n",
      "City not found. Skipping...\n",
      "Processing record 4 of set 8 | olafsvik\n",
      "Processing record 5 of set 8 | mar del plata\n",
      "Processing record 6 of set 8 | jizan\n",
      "Processing record 7 of set 8 | miyako\n",
      "Processing record 8 of set 8 | maniwaki\n",
      "Processing record 9 of set 8 | bardejov\n",
      "Processing record 10 of set 8 | airai\n",
      "Processing record 11 of set 8 | qasigiannguit\n",
      "Processing record 12 of set 8 | nyurba\n",
      "Processing record 13 of set 8 | vila franca do campo\n",
      "Processing record 14 of set 8 | izhma\n",
      "Processing record 15 of set 8 | tecolutla\n",
      "Processing record 16 of set 8 | butembo\n",
      "Processing record 17 of set 8 | ostrovnoy\n",
      "Processing record 18 of set 8 | zhigansk\n",
      "Processing record 19 of set 8 | tiksi\n",
      "Processing record 20 of set 8 | buala\n"
     ]
    },
    {
     "name": "stdout",
     "output_type": "stream",
     "text": [
      "Processing record 21 of set 8 | tadine\n",
      "Processing record 22 of set 8 | evensk\n",
      "Processing record 23 of set 8 | constitucion\n",
      "Processing record 24 of set 8 | sambava\n",
      "Processing record 25 of set 8 | marystown\n",
      "Processing record 26 of set 8 | provideniya\n",
      "Processing record 27 of set 8 | bantry\n",
      "Processing record 28 of set 8 | turukhansk\n",
      "Processing record 29 of set 8 | labrea\n",
      "Processing record 30 of set 8 | mporokoso\n",
      "Processing record 31 of set 8 | takoradi\n",
      "Processing record 32 of set 8 | solhan\n",
      "Processing record 33 of set 8 | peniche\n",
      "Processing record 34 of set 8 | marshalltown\n",
      "Processing record 35 of set 8 | jiayuguan\n",
      "Processing record 36 of set 8 | sorland\n",
      "Processing record 37 of set 8 | prachuap khiri khan\n",
      "Processing record 38 of set 8 | okato\n",
      "Processing record 39 of set 8 | alamor\n",
      "Processing record 40 of set 8 | garowe\n",
      "Processing record 41 of set 8 | baghdad\n",
      "Processing record 42 of set 8 | los llanos de aridane\n",
      "Processing record 43 of set 8 | haibowan\n",
      "City not found. Skipping...\n",
      "Processing record 44 of set 8 | karaul\n",
      "City not found. Skipping...\n",
      "Processing record 45 of set 8 | ayacucho\n",
      "Processing record 46 of set 8 | lata\n",
      "Processing record 47 of set 8 | stokmarknes\n",
      "Processing record 48 of set 8 | purranque\n",
      "Processing record 49 of set 8 | skalistyy\n",
      "City not found. Skipping...\n",
      "Processing record 50 of set 8 | nuuk\n",
      "Processing record 0 of set 9 | sayyan\n",
      "Processing record 1 of set 9 | vaitape\n",
      "Processing record 2 of set 9 | saint-leu\n",
      "Processing record 3 of set 9 | skelleftea\n",
      "Processing record 4 of set 9 | bonthe\n",
      "Processing record 5 of set 9 | zlobin\n",
      "Processing record 6 of set 9 | port hedland\n",
      "Processing record 7 of set 9 | marawi\n",
      "Processing record 8 of set 9 | hay river\n",
      "Processing record 9 of set 9 | yulara\n",
      "Processing record 10 of set 9 | tutoia\n",
      "Processing record 11 of set 9 | salinopolis\n",
      "Processing record 12 of set 9 | zyryanka\n",
      "Processing record 13 of set 9 | newbury\n",
      "Processing record 14 of set 9 | parras\n",
      "City not found. Skipping...\n",
      "Processing record 15 of set 9 | reo\n",
      "Processing record 16 of set 9 | kropotkin\n",
      "Processing record 17 of set 9 | saint-joseph\n",
      "Processing record 18 of set 9 | along\n",
      "Processing record 19 of set 9 | ust-barguzin\n",
      "Processing record 20 of set 9 | agara\n",
      "Processing record 21 of set 9 | usinsk\n",
      "Processing record 22 of set 9 | quime\n",
      "Processing record 23 of set 9 | pachino\n",
      "Processing record 24 of set 9 | santa rosa\n",
      "Processing record 25 of set 9 | kolosovka\n",
      "Processing record 26 of set 9 | fairbanks\n",
      "Processing record 27 of set 9 | turinsk\n",
      "Processing record 28 of set 9 | puerto castilla\n",
      "Processing record 29 of set 9 | jurmala\n",
      "Processing record 30 of set 9 | fairhope\n",
      "Processing record 31 of set 9 | tateyama\n",
      "Processing record 32 of set 9 | oranjemund\n",
      "Processing record 33 of set 9 | high prairie\n",
      "Processing record 34 of set 9 | barsovo\n",
      "Processing record 35 of set 9 | wahran\n",
      "City not found. Skipping...\n",
      "Processing record 36 of set 9 | adrar\n",
      "Processing record 37 of set 9 | broken hill\n",
      "Processing record 38 of set 9 | eldorado\n",
      "Processing record 39 of set 9 | pineville\n",
      "Processing record 40 of set 9 | pozo colorado\n",
      "Processing record 41 of set 9 | shimoda\n",
      "Processing record 42 of set 9 | mumford\n",
      "Processing record 43 of set 9 | bindura\n",
      "Processing record 44 of set 9 | kismayo\n",
      "Processing record 45 of set 9 | okakarara\n",
      "Processing record 46 of set 9 | makakilo city\n",
      "Processing record 47 of set 9 | ajdabiya\n",
      "Processing record 48 of set 9 | maumere\n",
      "Processing record 49 of set 9 | langxiang\n",
      "Processing record 50 of set 9 | ferme-neuve\n",
      "Processing record 0 of set 10 | ashford\n",
      "Processing record 1 of set 10 | xingyi\n",
      "Processing record 2 of set 10 | tual\n",
      "Processing record 3 of set 10 | bonavista\n",
      "Processing record 4 of set 10 | urucara\n",
      "Processing record 5 of set 10 | jiazi\n",
      "Processing record 6 of set 10 | longyearbyen\n",
      "Processing record 7 of set 10 | satitoa\n",
      "City not found. Skipping...\n",
      "Processing record 8 of set 10 | vaasa\n",
      "Processing record 9 of set 10 | port hardy\n",
      "Processing record 10 of set 10 | emerald\n",
      "Processing record 11 of set 10 | marrakesh\n",
      "Processing record 12 of set 10 | benin\n",
      "Processing record 13 of set 10 | tarata\n",
      "Processing record 14 of set 10 | karamea\n",
      "City not found. Skipping...\n",
      "Processing record 15 of set 10 | isla mujeres\n",
      "Processing record 16 of set 10 | ayan\n",
      "Processing record 17 of set 10 | kieta\n",
      "Processing record 18 of set 10 | abu dhabi\n",
      "Processing record 19 of set 10 | saint-francois\n",
      "Processing record 20 of set 10 | esna\n",
      "Processing record 21 of set 10 | pinawa\n",
      "Processing record 22 of set 10 | partapur\n",
      "Processing record 23 of set 10 | thunder bay\n",
      "Processing record 24 of set 10 | honiara\n",
      "Processing record 25 of set 10 | russell\n",
      "Processing record 26 of set 10 | sorvag\n",
      "City not found. Skipping...\n",
      "Processing record 27 of set 10 | dingle\n",
      "Processing record 28 of set 10 | jiuquan\n",
      "Processing record 29 of set 10 | atherton\n",
      "Processing record 30 of set 10 | taltal\n",
      "Processing record 31 of set 10 | viligili\n",
      "City not found. Skipping...\n",
      "Processing record 32 of set 10 | muros\n",
      "Processing record 33 of set 10 | baculin\n",
      "Processing record 34 of set 10 | kalmunai\n",
      "Processing record 35 of set 10 | comodoro rivadavia\n",
      "Processing record 36 of set 10 | mirebalais\n",
      "Processing record 37 of set 10 | bakchar\n",
      "Processing record 38 of set 10 | arica\n",
      "Processing record 39 of set 10 | skjervoy\n",
      "Processing record 40 of set 10 | bolobo\n",
      "Processing record 41 of set 10 | soure\n",
      "Processing record 42 of set 10 | havoysund\n",
      "Processing record 43 of set 10 | sao joao da barra\n",
      "Processing record 44 of set 10 | conroe\n",
      "Processing record 45 of set 10 | aberystwyth\n",
      "Processing record 46 of set 10 | sentyabrskiy\n",
      "City not found. Skipping...\n",
      "Processing record 47 of set 10 | rundu\n",
      "Processing record 48 of set 10 | saint anthony\n",
      "Processing record 49 of set 10 | tsiroanomandidy\n",
      "Processing record 50 of set 10 | sechura\n",
      "Processing record 0 of set 11 | nakusp\n",
      "Processing record 1 of set 11 | kutum\n",
      "Processing record 2 of set 11 | bayaguana\n",
      "Processing record 3 of set 11 | san quintin\n",
      "Processing record 4 of set 11 | tilzapotla\n",
      "Processing record 5 of set 11 | sinesti\n",
      "Processing record 6 of set 11 | kuminskiy\n",
      "Processing record 7 of set 11 | burila mare\n",
      "Processing record 8 of set 11 | osakarovka\n",
      "Processing record 9 of set 11 | bandarbeyla\n",
      "Processing record 10 of set 11 | vaitupu\n",
      "City not found. Skipping...\n",
      "Processing record 11 of set 11 | veraval\n",
      "Processing record 12 of set 11 | halalo\n",
      "City not found. Skipping...\n",
      "Processing record 13 of set 11 | popondetta\n",
      "Processing record 14 of set 11 | sri aman\n",
      "Processing record 15 of set 11 | onguday\n",
      "Processing record 16 of set 11 | ilhabela\n",
      "Processing record 17 of set 11 | camacha\n",
      "Processing record 18 of set 11 | atasu\n",
      "Processing record 19 of set 11 | recreio\n",
      "Processing record 20 of set 11 | iquique\n",
      "Processing record 21 of set 11 | nizhniy kuranakh\n",
      "Processing record 22 of set 11 | homer\n",
      "Processing record 23 of set 11 | urengoy\n",
      "Processing record 24 of set 11 | touros\n",
      "Processing record 25 of set 11 | axim\n",
      "Processing record 26 of set 11 | vendome\n",
      "Processing record 27 of set 11 | abha\n",
      "Processing record 28 of set 11 | saldanha\n",
      "Processing record 29 of set 11 | tres lagoas\n",
      "Processing record 30 of set 11 | bathsheba\n",
      "Processing record 31 of set 11 | uturoa\n",
      "Processing record 32 of set 11 | soyo\n",
      "Processing record 33 of set 11 | chadiza\n",
      "Processing record 34 of set 11 | bolshiye chapurniki\n",
      "City not found. Skipping...\n",
      "Processing record 35 of set 11 | port shepstone\n",
      "Processing record 36 of set 11 | mastic beach\n",
      "Processing record 37 of set 11 | yanchukan\n",
      "City not found. Skipping...\n",
      "Processing record 38 of set 11 | matveyev kurgan\n",
      "Processing record 39 of set 11 | palmer\n",
      "Processing record 40 of set 11 | berlevag\n",
      "Processing record 41 of set 11 | neftcala\n",
      "Processing record 42 of set 11 | salalah\n",
      "Processing record 43 of set 11 | huilong\n",
      "Processing record 44 of set 11 | sao filipe\n",
      "Processing record 45 of set 11 | bure\n",
      "Processing record 46 of set 11 | meulaboh\n",
      "Processing record 47 of set 11 | laguna\n",
      "Processing record 48 of set 11 | bubanza\n",
      "Processing record 49 of set 11 | dembi dolo\n",
      "Processing record 50 of set 11 | katha\n",
      "City not found. Skipping...\n",
      "Processing record 0 of set 12 | dinsor\n",
      "City not found. Skipping...\n",
      "Processing record 1 of set 12 | sistranda\n",
      "Processing record 2 of set 12 | singarayakonda\n",
      "Processing record 3 of set 12 | ushumun\n",
      "Processing record 4 of set 12 | shymkent\n",
      "Processing record 5 of set 12 | cairns\n",
      "Processing record 6 of set 12 | zaysan\n",
      "Processing record 7 of set 12 | lebedinyy\n",
      "Processing record 8 of set 12 | rock sound\n",
      "Processing record 9 of set 12 | weymouth\n",
      "Processing record 10 of set 12 | gimli\n",
      "Processing record 11 of set 12 | uribia\n",
      "Processing record 12 of set 12 | ola\n",
      "Processing record 13 of set 12 | port blair\n",
      "Processing record 14 of set 12 | esso\n",
      "Processing record 15 of set 12 | mineral wells\n",
      "Processing record 16 of set 12 | birobidzhan\n",
      "Processing record 17 of set 12 | itamaraju\n",
      "Processing record 18 of set 12 | jalu\n",
      "Processing record 19 of set 12 | brindisi\n",
      "Processing record 20 of set 12 | kamenka\n",
      "Processing record 21 of set 12 | bac lieu\n",
      "Processing record 22 of set 12 | berdigestyakh\n",
      "Processing record 23 of set 12 | qinhuangdao\n",
      "Processing record 24 of set 12 | komsomolskiy\n",
      "Processing record 25 of set 12 | harper\n",
      "Processing record 26 of set 12 | tawang\n",
      "Processing record 27 of set 12 | naftah\n",
      "City not found. Skipping...\n",
      "Processing record 28 of set 12 | manali\n",
      "Processing record 29 of set 12 | san miguel\n",
      "Processing record 30 of set 12 | tongliao\n",
      "Processing record 31 of set 12 | mwinilunga\n",
      "Processing record 32 of set 12 | aurdal\n",
      "Processing record 33 of set 12 | itiuba\n",
      "Processing record 34 of set 12 | nam tha\n",
      "City not found. Skipping...\n",
      "Processing record 35 of set 12 | sangar\n",
      "Processing record 36 of set 12 | simi\n",
      "Processing record 37 of set 12 | ambodifototra\n",
      "City not found. Skipping...\n",
      "Processing record 38 of set 12 | beira\n",
      "Processing record 39 of set 12 | canar\n",
      "Processing record 40 of set 12 | jilove u prahy\n",
      "Processing record 41 of set 12 | korla\n",
      "Processing record 42 of set 12 | bobo dioulasso\n",
      "Processing record 43 of set 12 | chacabuco\n",
      "Processing record 44 of set 12 | la asuncion\n",
      "Processing record 45 of set 12 | tazovskiy\n",
      "Processing record 46 of set 12 | azamgarh\n",
      "Processing record 47 of set 12 | san juan chamelco\n",
      "Processing record 48 of set 12 | kang\n",
      "Processing record 49 of set 12 | noumea\n",
      "Processing record 50 of set 12 | ordzhonikidze\n",
      "Processing record 0 of set 13 | lolua\n",
      "City not found. Skipping...\n",
      "Processing record 1 of set 13 | ambuclao\n",
      "Processing record 2 of set 13 | dalneye konstantinovo\n",
      "City not found. Skipping...\n",
      "Processing record 3 of set 13 | pisco\n",
      "Processing record 4 of set 13 | belaya gora\n",
      "Processing record 5 of set 13 | jutai\n",
      "Processing record 6 of set 13 | mandurah\n",
      "Processing record 7 of set 13 | luzhou\n",
      "Processing record 8 of set 13 | beatrice\n",
      "-------------------------\n",
      "Data Retrieval Complete\n",
      "-------------------------\n"
     ]
    }
   ],
   "source": [
    "record_count = 0\n",
    "set_count = 1\n",
    "\n",
    "#URL for Weather Map API Call\n",
    "url = \"http://api.openweathermap.org/data/2.5/weather?units=Imperial&APPID=\" + weather_api_key \n",
    "print('------------------------')\n",
    "print('Beginning Data Retrieval')\n",
    "print('------------------------')\n",
    "\n",
    "for city in cities:\n",
    "    query_url = url + \"&q=\"\n",
    "    response = requests.get(query_url + city).json()\n",
    "    if record_count < 50:\n",
    "        record_count += 1\n",
    "    else:\n",
    "        set_count += 1\n",
    "        record_count = 0\n",
    "\n",
    "    print('Processing record {} of set {} | {}'.format(record_count, set_count, city))\n",
    "    try:\n",
    "        cloudiness.append(response['clouds']['all'])\n",
    "        country.append(response['sys']['country'])\n",
    "        date.append(response['dt'])\n",
    "        humidity.append(response['main']['humidity'])\n",
    "        temp.append(response['main']['temp_max'])\n",
    "        lat.append(response['coord']['lat'])\n",
    "        lng.append(response['coord']['lon'])\n",
    "        wind.append(response['wind']['speed'])\n",
    "        new_cities.append(city)\n",
    "    except:\n",
    "        print(\"City not found. Skipping...\")\n",
    "        pass\n",
    "\n",
    "print('-------------------------')\n",
    "print('Data Retrieval Complete')\n",
    "print('-------------------------')"
   ]
  },
  {
   "cell_type": "markdown",
   "metadata": {},
   "source": [
    "### Convert Raw Data to DataFrame\n",
    "* Export the city data into a .csv.\n",
    "* Display the DataFrame"
   ]
  },
  {
   "cell_type": "code",
   "execution_count": 5,
   "metadata": {},
   "outputs": [
    {
     "data": {
      "text/plain": [
       "City          569\n",
       "Lat           569\n",
       "Lng           569\n",
       "Max Temp      569\n",
       "Humidity      569\n",
       "Cloudiness    569\n",
       "Wind Speed    569\n",
       "Country       569\n",
       "Date          569\n",
       "dtype: int64"
      ]
     },
     "execution_count": 5,
     "metadata": {},
     "output_type": "execute_result"
    }
   ],
   "source": [
    "weather = {\n",
    "    \"City\":new_cities,\n",
    "    \"Lat\": lat, \n",
    "    \"Lng\": lng,\n",
    "    \"Max Temp\": temp,\n",
    "    \"Humidity\": humidity,\n",
    "    \"Cloudiness\": cloudiness, \n",
    "    \"Wind Speed\": wind,\n",
    "    \"Country\": country, \n",
    "    \"Date\":date  \n",
    "}\n",
    "weather_df = pd.DataFrame(weather)\n",
    "weather_df.count()"
   ]
  },
  {
   "cell_type": "code",
   "execution_count": 6,
   "metadata": {
    "scrolled": true
   },
   "outputs": [
    {
     "data": {
      "text/html": [
       "<div>\n",
       "<style scoped>\n",
       "    .dataframe tbody tr th:only-of-type {\n",
       "        vertical-align: middle;\n",
       "    }\n",
       "\n",
       "    .dataframe tbody tr th {\n",
       "        vertical-align: top;\n",
       "    }\n",
       "\n",
       "    .dataframe thead th {\n",
       "        text-align: right;\n",
       "    }\n",
       "</style>\n",
       "<table border=\"1\" class=\"dataframe\">\n",
       "  <thead>\n",
       "    <tr style=\"text-align: right;\">\n",
       "      <th></th>\n",
       "      <th>City</th>\n",
       "      <th>Lat</th>\n",
       "      <th>Lng</th>\n",
       "      <th>Max Temp</th>\n",
       "      <th>Humidity</th>\n",
       "      <th>Cloudiness</th>\n",
       "      <th>Wind Speed</th>\n",
       "      <th>Country</th>\n",
       "      <th>Date</th>\n",
       "    </tr>\n",
       "  </thead>\n",
       "  <tbody>\n",
       "    <tr>\n",
       "      <th>0</th>\n",
       "      <td>lompoc</td>\n",
       "      <td>34.64</td>\n",
       "      <td>-120.46</td>\n",
       "      <td>69.01</td>\n",
       "      <td>64</td>\n",
       "      <td>10</td>\n",
       "      <td>10.29</td>\n",
       "      <td>US</td>\n",
       "      <td>1595622657</td>\n",
       "    </tr>\n",
       "    <tr>\n",
       "      <th>1</th>\n",
       "      <td>banjar</td>\n",
       "      <td>-8.19</td>\n",
       "      <td>114.97</td>\n",
       "      <td>77.00</td>\n",
       "      <td>78</td>\n",
       "      <td>40</td>\n",
       "      <td>13.87</td>\n",
       "      <td>ID</td>\n",
       "      <td>1595622658</td>\n",
       "    </tr>\n",
       "    <tr>\n",
       "      <th>2</th>\n",
       "      <td>hermanus</td>\n",
       "      <td>-34.42</td>\n",
       "      <td>19.23</td>\n",
       "      <td>50.00</td>\n",
       "      <td>84</td>\n",
       "      <td>0</td>\n",
       "      <td>1.92</td>\n",
       "      <td>ZA</td>\n",
       "      <td>1595622658</td>\n",
       "    </tr>\n",
       "    <tr>\n",
       "      <th>3</th>\n",
       "      <td>rio grande</td>\n",
       "      <td>-32.03</td>\n",
       "      <td>-52.10</td>\n",
       "      <td>55.40</td>\n",
       "      <td>87</td>\n",
       "      <td>90</td>\n",
       "      <td>18.34</td>\n",
       "      <td>BR</td>\n",
       "      <td>1595622480</td>\n",
       "    </tr>\n",
       "    <tr>\n",
       "      <th>4</th>\n",
       "      <td>seoul</td>\n",
       "      <td>37.57</td>\n",
       "      <td>126.98</td>\n",
       "      <td>73.40</td>\n",
       "      <td>69</td>\n",
       "      <td>90</td>\n",
       "      <td>4.70</td>\n",
       "      <td>KR</td>\n",
       "      <td>1595622600</td>\n",
       "    </tr>\n",
       "  </tbody>\n",
       "</table>\n",
       "</div>"
      ],
      "text/plain": [
       "         City    Lat     Lng  Max Temp  Humidity  Cloudiness  Wind Speed  \\\n",
       "0      lompoc  34.64 -120.46     69.01        64          10       10.29   \n",
       "1      banjar  -8.19  114.97     77.00        78          40       13.87   \n",
       "2    hermanus -34.42   19.23     50.00        84           0        1.92   \n",
       "3  rio grande -32.03  -52.10     55.40        87          90       18.34   \n",
       "4       seoul  37.57  126.98     73.40        69          90        4.70   \n",
       "\n",
       "  Country        Date  \n",
       "0      US  1595622657  \n",
       "1      ID  1595622658  \n",
       "2      ZA  1595622658  \n",
       "3      BR  1595622480  \n",
       "4      KR  1595622600  "
      ]
     },
     "execution_count": 6,
     "metadata": {},
     "output_type": "execute_result"
    }
   ],
   "source": [
    "weather_df.head()"
   ]
  },
  {
   "cell_type": "markdown",
   "metadata": {},
   "source": [
    "## Inspect the data and remove the cities where the humidity > 100%.\n",
    "----\n",
    "Skip this step if there are no cities that have humidity > 100%. "
   ]
  },
  {
   "cell_type": "code",
   "execution_count": 7,
   "metadata": {},
   "outputs": [
    {
     "data": {
      "text/html": [
       "<div>\n",
       "<style scoped>\n",
       "    .dataframe tbody tr th:only-of-type {\n",
       "        vertical-align: middle;\n",
       "    }\n",
       "\n",
       "    .dataframe tbody tr th {\n",
       "        vertical-align: top;\n",
       "    }\n",
       "\n",
       "    .dataframe thead th {\n",
       "        text-align: right;\n",
       "    }\n",
       "</style>\n",
       "<table border=\"1\" class=\"dataframe\">\n",
       "  <thead>\n",
       "    <tr style=\"text-align: right;\">\n",
       "      <th></th>\n",
       "      <th>City</th>\n",
       "      <th>Lat</th>\n",
       "      <th>Lng</th>\n",
       "      <th>Max Temp</th>\n",
       "      <th>Humidity</th>\n",
       "      <th>Cloudiness</th>\n",
       "      <th>Wind Speed</th>\n",
       "      <th>Country</th>\n",
       "      <th>Date</th>\n",
       "    </tr>\n",
       "  </thead>\n",
       "  <tbody>\n",
       "    <tr>\n",
       "      <th>0</th>\n",
       "      <td>lompoc</td>\n",
       "      <td>34.64</td>\n",
       "      <td>-120.46</td>\n",
       "      <td>69.01</td>\n",
       "      <td>64</td>\n",
       "      <td>10</td>\n",
       "      <td>10.29</td>\n",
       "      <td>US</td>\n",
       "      <td>1595622657</td>\n",
       "    </tr>\n",
       "    <tr>\n",
       "      <th>1</th>\n",
       "      <td>banjar</td>\n",
       "      <td>-8.19</td>\n",
       "      <td>114.97</td>\n",
       "      <td>77.00</td>\n",
       "      <td>78</td>\n",
       "      <td>40</td>\n",
       "      <td>13.87</td>\n",
       "      <td>ID</td>\n",
       "      <td>1595622658</td>\n",
       "    </tr>\n",
       "    <tr>\n",
       "      <th>2</th>\n",
       "      <td>hermanus</td>\n",
       "      <td>-34.42</td>\n",
       "      <td>19.23</td>\n",
       "      <td>50.00</td>\n",
       "      <td>84</td>\n",
       "      <td>0</td>\n",
       "      <td>1.92</td>\n",
       "      <td>ZA</td>\n",
       "      <td>1595622658</td>\n",
       "    </tr>\n",
       "    <tr>\n",
       "      <th>3</th>\n",
       "      <td>rio grande</td>\n",
       "      <td>-32.03</td>\n",
       "      <td>-52.10</td>\n",
       "      <td>55.40</td>\n",
       "      <td>87</td>\n",
       "      <td>90</td>\n",
       "      <td>18.34</td>\n",
       "      <td>BR</td>\n",
       "      <td>1595622480</td>\n",
       "    </tr>\n",
       "    <tr>\n",
       "      <th>4</th>\n",
       "      <td>seoul</td>\n",
       "      <td>37.57</td>\n",
       "      <td>126.98</td>\n",
       "      <td>73.40</td>\n",
       "      <td>69</td>\n",
       "      <td>90</td>\n",
       "      <td>4.70</td>\n",
       "      <td>KR</td>\n",
       "      <td>1595622600</td>\n",
       "    </tr>\n",
       "  </tbody>\n",
       "</table>\n",
       "</div>"
      ],
      "text/plain": [
       "         City    Lat     Lng  Max Temp  Humidity  Cloudiness  Wind Speed  \\\n",
       "0      lompoc  34.64 -120.46     69.01        64          10       10.29   \n",
       "1      banjar  -8.19  114.97     77.00        78          40       13.87   \n",
       "2    hermanus -34.42   19.23     50.00        84           0        1.92   \n",
       "3  rio grande -32.03  -52.10     55.40        87          90       18.34   \n",
       "4       seoul  37.57  126.98     73.40        69          90        4.70   \n",
       "\n",
       "  Country        Date  \n",
       "0      US  1595622657  \n",
       "1      ID  1595622658  \n",
       "2      ZA  1595622658  \n",
       "3      BR  1595622480  \n",
       "4      KR  1595622600  "
      ]
     },
     "execution_count": 7,
     "metadata": {},
     "output_type": "execute_result"
    }
   ],
   "source": [
    "clean_city_data= weather_df.loc[weather_df[\"Humidity\"] < 100] \n",
    "clean_city_data.head()"
   ]
  },
  {
   "cell_type": "code",
   "execution_count": 8,
   "metadata": {},
   "outputs": [
    {
     "data": {
      "text/html": [
       "<div>\n",
       "<style scoped>\n",
       "    .dataframe tbody tr th:only-of-type {\n",
       "        vertical-align: middle;\n",
       "    }\n",
       "\n",
       "    .dataframe tbody tr th {\n",
       "        vertical-align: top;\n",
       "    }\n",
       "\n",
       "    .dataframe thead th {\n",
       "        text-align: right;\n",
       "    }\n",
       "</style>\n",
       "<table border=\"1\" class=\"dataframe\">\n",
       "  <thead>\n",
       "    <tr style=\"text-align: right;\">\n",
       "      <th></th>\n",
       "      <th>Lat</th>\n",
       "      <th>Lng</th>\n",
       "      <th>Max Temp</th>\n",
       "      <th>Humidity</th>\n",
       "      <th>Cloudiness</th>\n",
       "      <th>Wind Speed</th>\n",
       "      <th>Country</th>\n",
       "      <th>Date</th>\n",
       "    </tr>\n",
       "    <tr>\n",
       "      <th>City</th>\n",
       "      <th></th>\n",
       "      <th></th>\n",
       "      <th></th>\n",
       "      <th></th>\n",
       "      <th></th>\n",
       "      <th></th>\n",
       "      <th></th>\n",
       "      <th></th>\n",
       "    </tr>\n",
       "  </thead>\n",
       "  <tbody>\n",
       "    <tr>\n",
       "      <th>lompoc</th>\n",
       "      <td>34.64</td>\n",
       "      <td>-120.46</td>\n",
       "      <td>69.01</td>\n",
       "      <td>64</td>\n",
       "      <td>10</td>\n",
       "      <td>10.29</td>\n",
       "      <td>US</td>\n",
       "      <td>1595622657</td>\n",
       "    </tr>\n",
       "    <tr>\n",
       "      <th>banjar</th>\n",
       "      <td>-8.19</td>\n",
       "      <td>114.97</td>\n",
       "      <td>77.00</td>\n",
       "      <td>78</td>\n",
       "      <td>40</td>\n",
       "      <td>13.87</td>\n",
       "      <td>ID</td>\n",
       "      <td>1595622658</td>\n",
       "    </tr>\n",
       "    <tr>\n",
       "      <th>hermanus</th>\n",
       "      <td>-34.42</td>\n",
       "      <td>19.23</td>\n",
       "      <td>50.00</td>\n",
       "      <td>84</td>\n",
       "      <td>0</td>\n",
       "      <td>1.92</td>\n",
       "      <td>ZA</td>\n",
       "      <td>1595622658</td>\n",
       "    </tr>\n",
       "    <tr>\n",
       "      <th>rio grande</th>\n",
       "      <td>-32.03</td>\n",
       "      <td>-52.10</td>\n",
       "      <td>55.40</td>\n",
       "      <td>87</td>\n",
       "      <td>90</td>\n",
       "      <td>18.34</td>\n",
       "      <td>BR</td>\n",
       "      <td>1595622480</td>\n",
       "    </tr>\n",
       "    <tr>\n",
       "      <th>seoul</th>\n",
       "      <td>37.57</td>\n",
       "      <td>126.98</td>\n",
       "      <td>73.40</td>\n",
       "      <td>69</td>\n",
       "      <td>90</td>\n",
       "      <td>4.70</td>\n",
       "      <td>KR</td>\n",
       "      <td>1595622600</td>\n",
       "    </tr>\n",
       "  </tbody>\n",
       "</table>\n",
       "</div>"
      ],
      "text/plain": [
       "              Lat     Lng  Max Temp  Humidity  Cloudiness  Wind Speed Country  \\\n",
       "City                                                                            \n",
       "lompoc      34.64 -120.46     69.01        64          10       10.29      US   \n",
       "banjar      -8.19  114.97     77.00        78          40       13.87      ID   \n",
       "hermanus   -34.42   19.23     50.00        84           0        1.92      ZA   \n",
       "rio grande -32.03  -52.10     55.40        87          90       18.34      BR   \n",
       "seoul       37.57  126.98     73.40        69          90        4.70      KR   \n",
       "\n",
       "                  Date  \n",
       "City                    \n",
       "lompoc      1595622657  \n",
       "banjar      1595622658  \n",
       "hermanus    1595622658  \n",
       "rio grande  1595622480  \n",
       "seoul       1595622600  "
      ]
     },
     "execution_count": 8,
     "metadata": {},
     "output_type": "execute_result"
    }
   ],
   "source": [
    "cleaned_city_data = clean_city_data.set_index(\"City\")\n",
    "cleaned_city_data.head()"
   ]
  },
  {
   "cell_type": "code",
   "execution_count": 25,
   "metadata": {},
   "outputs": [],
   "source": [
    "# Export the City_Data into a csv\n",
    "outputPath = os.path.join('output_data','city_data.csv')\n",
    "\n",
    "with open(outputPath, 'w') as datafile:\n",
    "    cleaned_city_data.to_csv(outputPath)"
   ]
  },
  {
   "cell_type": "markdown",
   "metadata": {},
   "source": [
    "## Plotting the Data\n",
    "* Use proper labeling of the plots using plot titles (including date of analysis) and axes labels.\n",
    "* Save the plotted figures as .pngs."
   ]
  },
  {
   "cell_type": "code",
   "execution_count": 10,
   "metadata": {
    "scrolled": true
   },
   "outputs": [],
   "source": [
    "date= datetime.datetime.fromtimestamp(int(clean_city_data['Date'][0])).strftime('%m/%d/%Y')"
   ]
  },
  {
   "cell_type": "markdown",
   "metadata": {},
   "source": [
    "## Latitude vs. Temperature Plot"
   ]
  },
  {
   "cell_type": "code",
   "execution_count": 11,
   "metadata": {
    "scrolled": true
   },
   "outputs": [
    {
     "data": {
      "image/png": "[encoded data removed]",
      "text/plain": [
       "<Figure size 432x288 with 1 Axes>"
      ]
     },
     "metadata": {
      "needs_background": "light"
     },
     "output_type": "display_data"
    }
   ],
   "source": [
    "clean_city_data.plot(kind='scatter', x='Lat', y='Max Temp')\n",
    "plt.title('City Latitude vs. Max Temperature ({})'.format(date) )\n",
    "plt.xlabel('Latitude')\n",
    "plt.ylabel('Max temperature (F)')\n",
    "plt.grid()\n",
    "plt.savefig(\"Images/LatitudevsTemperature.png\")"
   ]
  },
  {
   "cell_type": "markdown",
   "metadata": {},
   "source": [
    "## Latitude vs. Humidity Plot"
   ]
  },
  {
   "cell_type": "code",
   "execution_count": 12,
   "metadata": {},
   "outputs": [
    {
     "data": {
      "image/png": "[encoded data removed]",
      "text/plain": [
       "<Figure size 432x288 with 1 Axes>"
      ]
     },
     "metadata": {
      "needs_background": "light"
     },
     "output_type": "display_data"
    }
   ],
   "source": [
    "clean_city_data.plot(kind='scatter', x='Lat', y='Humidity')\n",
    "plt.title('City Latitude vs. Humidity ({})'.format(date) )\n",
    "plt.xlabel('Latitude')\n",
    "plt.ylabel('Humidity')\n",
    "plt.grid()\n",
    "plt.savefig(\"Images/LatitudevsHumidity.png\")"
   ]
  },
  {
   "cell_type": "markdown",
   "metadata": {},
   "source": [
    "## Latitude vs. Cloudiness Plot"
   ]
  },
  {
   "cell_type": "code",
   "execution_count": 13,
   "metadata": {},
   "outputs": [
    {
     "data": {
      "image/png": "[encoded data removed]",
      "text/plain": [
       "<Figure size 432x288 with 1 Axes>"
      ]
     },
     "metadata": {
      "needs_background": "light"
     },
     "output_type": "display_data"
    }
   ],
   "source": [
    "clean_city_data.plot(kind='scatter',x='Lat',y='Cloudiness')\n",
    "plt.title('City Latitude vs. Cloudiness ({})'.format(date) )\n",
    "plt.xlabel('Latitude')\n",
    "plt.ylabel('Cloudiness (%)')\n",
    "plt.grid()\n",
    "plt.savefig(\"Images/LatitudevsCloudiness.png\")"
   ]
  },
  {
   "cell_type": "markdown",
   "metadata": {},
   "source": [
    "## Latitude vs. Wind Speed Plot"
   ]
  },
  {
   "cell_type": "code",
   "execution_count": 14,
   "metadata": {},
   "outputs": [
    {
     "data": {
      "image/png": "[encoded data removed]",
      "text/plain": [
       "<Figure size 432x288 with 1 Axes>"
      ]
     },
     "metadata": {
      "needs_background": "light"
     },
     "output_type": "display_data"
    }
   ],
   "source": [
    "clean_city_data.plot(kind='scatter',x='Lat',y='Wind Speed')\n",
    "plt.title('City Latitude Vs Wind Speed ({})'.format(date) )\n",
    "plt.xlabel('Latitude')\n",
    "plt.ylabel('Wind Speed (mph)')\n",
    "plt.grid()\n",
    "plt.savefig(\"Images/LatitudevsWindSpeed.png\")"
   ]
  },
  {
   "cell_type": "markdown",
   "metadata": {},
   "source": [
    "## Linear Regression"
   ]
  },
  {
   "cell_type": "code",
   "execution_count": 15,
   "metadata": {},
   "outputs": [],
   "source": [
    "# OPTIONAL: Create a function to create Linear Regression plots"
   ]
  },
  {
   "cell_type": "code",
   "execution_count": 16,
   "metadata": {},
   "outputs": [],
   "source": [
    "# Create Northern and Southern Hemisphere DataFrames\n",
    "northern_df = pd.DataFrame(clean_city_data.loc[clean_city_data[\"Lat\"] >= 0])\n",
    "southern_df = pd.DataFrame(clean_city_data.loc[clean_city_data[\"Lat\"] <= 0])"
   ]
  },
  {
   "cell_type": "markdown",
   "metadata": {},
   "source": [
    "####  Northern Hemisphere - Max Temp vs. Latitude Linear Regression"
   ]
  },
  {
   "cell_type": "code",
   "execution_count": 17,
   "metadata": {
    "scrolled": true
   },
   "outputs": [
    {
     "data": {
      "image/png": "[encoded data removed]",
      "text/plain": [
       "<Figure size 432x288 with 1 Axes>"
      ]
     },
     "metadata": {
      "needs_background": "light"
     },
     "output_type": "display_data"
    },
    {
     "name": "stdout",
     "output_type": "stream",
     "text": [
      "The r-squared is: -0.6678375460311409\n"
     ]
    },
    {
     "data": {
      "text/plain": [
       "<Figure size 432x288 with 0 Axes>"
      ]
     },
     "metadata": {},
     "output_type": "display_data"
    }
   ],
   "source": [
    "x_values = northern_df['Lat']\n",
    "y_values = northern_df['Max Temp']\n",
    "(slope, intercept, rvalue, pvalue, stderr) = linregress(x_values, y_values)\n",
    "regress_values = x_values * slope + intercept\n",
    "line_eq = \"y = \" + str(round(slope,2)) + \"x + \" + str(round(intercept,2))\n",
    "plt.scatter(x_values,y_values)\n",
    "plt.plot(x_values,regress_values,'r-')\n",
    "plt.annotate(line_eq,(15,5),color='r')\n",
    "plt.title('Northern Hemisphere - Max Temp vs. Latitude Linear Regression')\n",
    "plt.xlabel('Latitude')\n",
    "plt.ylabel('Max Temp')\n",
    "plt.show()\n",
    "\n",
    "# print correlation coefficient under graph\n",
    "corr = st.pearsonr(x_values, y_values)[0]\n",
    "print(f\"The r-squared is: {corr}\")\n",
    "\n",
    "plt.savefig(\"Images/LR_Northern_MaxTempvsLat.png\")"
   ]
  },
  {
   "cell_type": "markdown",
   "metadata": {},
   "source": [
    "####  Southern Hemisphere - Max Temp vs. Latitude Linear Regression"
   ]
  },
  {
   "cell_type": "code",
   "execution_count": 18,
   "metadata": {},
   "outputs": [
    {
     "data": {
      "image/png": "[encoded data removed]",
      "text/plain": [
       "<Figure size 432x288 with 1 Axes>"
      ]
     },
     "metadata": {
      "needs_background": "light"
     },
     "output_type": "display_data"
    },
    {
     "name": "stdout",
     "output_type": "stream",
     "text": [
      "The r-squared is: 0.7831722602949913\n"
     ]
    },
    {
     "data": {
      "text/plain": [
       "<Figure size 432x288 with 0 Axes>"
      ]
     },
     "metadata": {},
     "output_type": "display_data"
    }
   ],
   "source": [
    "x_values = southern_df['Lat']\n",
    "y_values = southern_df['Max Temp']\n",
    "(slope, intercept, rvalue, pvalue, stderr) = linregress(x_values, y_values)\n",
    "regress_values = x_values * slope + intercept\n",
    "line_eq = \"y = \" + str(round(slope,2)) + \"x + \" + str(round(intercept,2))\n",
    "plt.scatter(x_values,y_values)\n",
    "plt.plot(x_values,regress_values,'r-')\n",
    "plt.annotate(line_eq,(15,5),color='r')\n",
    "plt.title('Southern Hemisphere - Max Temp vs. Latitude Linear Regression')\n",
    "plt.xlabel('Latitude')\n",
    "plt.ylabel('Max Temp')\n",
    "plt.show()\n",
    "\n",
    "# print correlation coefficient under graph\n",
    "corr = st.pearsonr(x_values, y_values)[0]\n",
    "print(f\"The r-squared is: {corr}\")\n",
    "\n",
    "plt.savefig(\"Images/LR_Southern_MaxTempvsLat.png\")"
   ]
  },
  {
   "cell_type": "markdown",
   "metadata": {},
   "source": [
    "####  Northern Hemisphere - Humidity (%) vs. Latitude Linear Regression"
   ]
  },
  {
   "cell_type": "code",
   "execution_count": 19,
   "metadata": {},
   "outputs": [
    {
     "data": {
      "image/png": "[encoded data removed]",
      "text/plain": [
       "<Figure size 432x288 with 1 Axes>"
      ]
     },
     "metadata": {
      "needs_background": "light"
     },
     "output_type": "display_data"
    },
    {
     "name": "stdout",
     "output_type": "stream",
     "text": [
      "The r-squared is: -0.005638073850624925\n"
     ]
    },
    {
     "data": {
      "text/plain": [
       "<Figure size 432x288 with 0 Axes>"
      ]
     },
     "metadata": {},
     "output_type": "display_data"
    }
   ],
   "source": [
    "x_values = northern_df['Lat']\n",
    "y_values = northern_df['Humidity']\n",
    "(slope, intercept, rvalue, pvalue, stderr) = linregress(x_values, y_values)\n",
    "regress_values = x_values * slope + intercept\n",
    "line_eq = \"y = \" + str(round(slope,2)) + \"x + \" + str(round(intercept,2))\n",
    "plt.scatter(x_values,y_values)\n",
    "plt.plot(x_values,regress_values,'r-')\n",
    "plt.annotate(line_eq,(15,5),color='r')\n",
    "plt.title('Northern Hemisphere - Humidity (%) vs. Latitude Linear Regression')\n",
    "plt.xlabel('Latitude')\n",
    "plt.ylabel('Humidity %')\n",
    "plt.show()\n",
    "\n",
    "# print correlation coefficient under graph\n",
    "corr = st.pearsonr(x_values, y_values)[0]\n",
    "print(f\"The r-squared is: {corr}\")\n",
    "\n",
    "plt.savefig(\"Images/LR_Northern_HumidityvsLat.png\")"
   ]
  },
  {
   "cell_type": "markdown",
   "metadata": {},
   "source": [
    "####  Southern Hemisphere - Humidity (%) vs. Latitude Linear Regression"
   ]
  },
  {
   "cell_type": "code",
   "execution_count": 20,
   "metadata": {},
   "outputs": [
    {
     "data": {
      "image/png": "[encoded data removed]",
      "text/plain": [
       "<Figure size 432x288 with 1 Axes>"
      ]
     },
     "metadata": {
      "needs_background": "light"
     },
     "output_type": "display_data"
    },
    {
     "name": "stdout",
     "output_type": "stream",
     "text": [
      "The r-squared is: -0.04554798094532407\n"
     ]
    },
    {
     "data": {
      "text/plain": [
       "<Figure size 432x288 with 0 Axes>"
      ]
     },
     "metadata": {},
     "output_type": "display_data"
    }
   ],
   "source": [
    "x_values = southern_df['Lat']\n",
    "y_values = southern_df['Humidity']\n",
    "(slope, intercept, rvalue, pvalue, stderr) = linregress(x_values, y_values)\n",
    "regress_values = x_values * slope + intercept\n",
    "line_eq = \"y = \" + str(round(slope,2)) + \"x + \" + str(round(intercept,2))\n",
    "plt.scatter(x_values,y_values)\n",
    "plt.plot(x_values,regress_values,'r-')\n",
    "plt.annotate(line_eq,(15,5),color='r')\n",
    "plt.title('Southern Hemisphere - Humidity (%) vs. Latitude Linear Regression')\n",
    "plt.xlabel('Latitude')\n",
    "plt.ylabel('Humidity %')\n",
    "plt.show()\n",
    "\n",
    "# print correlation coefficient under graph\n",
    "corr = st.pearsonr(x_values, y_values)[0]\n",
    "print(f\"The r-squared is: {corr}\")\n",
    "\n",
    "plt.savefig(\"Images/LR_Southern_HumidityvsLat.png\")"
   ]
  },
  {
   "cell_type": "markdown",
   "metadata": {},
   "source": [
    "####  Northern Hemisphere - Cloudiness (%) vs. Latitude Linear Regression"
   ]
  },
  {
   "cell_type": "code",
   "execution_count": 21,
   "metadata": {},
   "outputs": [
    {
     "data": {
      "image/png": "[encoded data removed]",
      "text/plain": [
       "<Figure size 432x288 with 1 Axes>"
      ]
     },
     "metadata": {
      "needs_background": "light"
     },
     "output_type": "display_data"
    },
    {
     "name": "stdout",
     "output_type": "stream",
     "text": [
      "The r-squared is: -0.053119783424089136\n"
     ]
    },
    {
     "data": {
      "text/plain": [
       "<Figure size 432x288 with 0 Axes>"
      ]
     },
     "metadata": {},
     "output_type": "display_data"
    }
   ],
   "source": [
    "x_values = northern_df['Lat']\n",
    "y_values = northern_df['Cloudiness']\n",
    "(slope, intercept, rvalue, pvalue, stderr) = linregress(x_values, y_values)\n",
    "regress_values = x_values * slope + intercept\n",
    "line_eq = \"y = \" + str(round(slope,2)) + \"x + \" + str(round(intercept,2))\n",
    "plt.scatter(x_values,y_values)\n",
    "plt.plot(x_values,regress_values,'r-')\n",
    "plt.annotate(line_eq,(15,5),color='r')\n",
    "plt.title('Northern Hemisphere - Cloudiness (%) vs. Latitude Linear Regression')\n",
    "plt.xlabel('Latitude')\n",
    "plt.ylabel('Cloudiness %')\n",
    "plt.show()\n",
    "\n",
    "# print correlation coefficient under graph\n",
    "corr = st.pearsonr(x_values, y_values)[0]\n",
    "print(f\"The r-squared is: {corr}\")\n",
    "\n",
    "plt.savefig(\"Images/LR_Northern_CloudinessvsLat.png\")"
   ]
  },
  {
   "cell_type": "markdown",
   "metadata": {},
   "source": [
    "####  Southern Hemisphere - Cloudiness (%) vs. Latitude Linear Regression"
   ]
  },
  {
   "cell_type": "code",
   "execution_count": 22,
   "metadata": {
    "scrolled": true
   },
   "outputs": [
    {
     "data": {
      "image/png": "[encoded data removed]",
      "text/plain": [
       "<Figure size 432x288 with 1 Axes>"
      ]
     },
     "metadata": {
      "needs_background": "light"
     },
     "output_type": "display_data"
    },
    {
     "name": "stdout",
     "output_type": "stream",
     "text": [
      "The r-squared is: -0.0030271068149893736\n"
     ]
    },
    {
     "data": {
      "text/plain": [
       "<Figure size 432x288 with 0 Axes>"
      ]
     },
     "metadata": {},
     "output_type": "display_data"
    }
   ],
   "source": [
    "x_values = southern_df['Lat']\n",
    "y_values = southern_df['Cloudiness']\n",
    "(slope, intercept, rvalue, pvalue, stderr) = linregress(x_values, y_values)\n",
    "regress_values = x_values * slope + intercept\n",
    "line_eq = \"y = \" + str(round(slope,2)) + \"x + \" + str(round(intercept,2))\n",
    "plt.scatter(x_values,y_values)\n",
    "plt.plot(x_values,regress_values,'r-')\n",
    "plt.annotate(line_eq,(15,5),color='r')\n",
    "plt.title('Southern Hemisphere - Cloudiness (%) vs. Latitude Linear Regression')\n",
    "plt.xlabel('Latitude')\n",
    "plt.ylabel('Cloudiness %')\n",
    "plt.show()\n",
    "\n",
    "# print correlation coefficient under graph\n",
    "corr = st.pearsonr(x_values, y_values)[0]\n",
    "print(f\"The r-squared is: {corr}\")\n",
    "\n",
    "plt.savefig(\"Images/LR_Southern_CloudinessvsLat.png\")"
   ]
  },
  {
   "cell_type": "markdown",
   "metadata": {},
   "source": [
    "####  Northern Hemisphere - Wind Speed (mph) vs. Latitude Linear Regression"
   ]
  },
  {
   "cell_type": "code",
   "execution_count": 23,
   "metadata": {},
   "outputs": [
    {
     "data": {
      "image/png": "[encoded data removed]",
      "text/plain": [
       "<Figure size 432x288 with 1 Axes>"
      ]
     },
     "metadata": {
      "needs_background": "light"
     },
     "output_type": "display_data"
    },
    {
     "name": "stdout",
     "output_type": "stream",
     "text": [
      "The r-squared is: -0.11041957224283855\n"
     ]
    },
    {
     "data": {
      "text/plain": [
       "<Figure size 432x288 with 0 Axes>"
      ]
     },
     "metadata": {},
     "output_type": "display_data"
    }
   ],
   "source": [
    "x_values = northern_df['Lat']\n",
    "y_values = northern_df['Wind Speed']\n",
    "(slope, intercept, rvalue, pvalue, stderr) = linregress(x_values, y_values)\n",
    "regress_values = x_values * slope + intercept\n",
    "line_eq = \"y = \" + str(round(slope,2)) + \"x + \" + str(round(intercept,2))\n",
    "plt.scatter(x_values,y_values)\n",
    "plt.plot(x_values,regress_values,'r-')\n",
    "plt.annotate(line_eq,(15,5),color='r')\n",
    "plt.title('Northern Hemisphere - Wind Speed (mph) vs. Latitude Linear Regression')\n",
    "plt.xlabel('Latitude')\n",
    "plt.ylabel('Wind Speed')\n",
    "plt.show()\n",
    "\n",
    "# print correlation coefficient under graph\n",
    "corr = st.pearsonr(x_values, y_values)[0]\n",
    "print(f\"The r-squared is: {corr}\")\n",
    "\n",
    "plt.savefig(\"Images/LR_Northern_WindspeedvsLat.png\")"
   ]
  },
  {
   "cell_type": "markdown",
   "metadata": {},
   "source": [
    "####  Southern Hemisphere - Wind Speed (mph) vs. Latitude Linear Regression"
   ]
  },
  {
   "cell_type": "code",
   "execution_count": 24,
   "metadata": {},
   "outputs": [
    {
     "data": {
      "image/png": "[encoded data removed]",
      "text/plain": [
       "<Figure size 432x288 with 1 Axes>"
      ]
     },
     "metadata": {
      "needs_background": "light"
     },
     "output_type": "display_data"
    },
    {
     "name": "stdout",
     "output_type": "stream",
     "text": [
      "The r-squared is: 0.04203390237358765\n"
     ]
    },
    {
     "data": {
      "text/plain": [
       "<Figure size 432x288 with 0 Axes>"
      ]
     },
     "metadata": {},
     "output_type": "display_data"
    }
   ],
   "source": [
    "x_values = southern_df['Lat']\n",
    "y_values = southern_df['Wind Speed']\n",
    "(slope, intercept, rvalue, pvalue, stderr) = linregress(x_values, y_values)\n",
    "regress_values = x_values * slope + intercept\n",
    "line_eq = \"y = \" + str(round(slope,2)) + \"x + \" + str(round(intercept,2))\n",
    "plt.scatter(x_values,y_values)\n",
    "plt.plot(x_values,regress_values,'r-')\n",
    "plt.annotate(line_eq,(15,5),color='r')\n",
    "plt.title('Southern Hemisphere - Wind Speed (mph) vs. Latitude Linear Regression')\n",
    "plt.xlabel('Latitude')\n",
    "plt.ylabel('Wind Speed')\n",
    "plt.show()\n",
    "\n",
    "# print correlation coefficient under graph\n",
    "corr = st.pearsonr(x_values, y_values)[0]\n",
    "print(f\"The r-squared is: {corr}\")\n",
    "\n",
    "plt.savefig(\"Images/LR_Southern_WindspeedvsLat.png\")"
   ]
  },
  {
   "cell_type": "code",
   "execution_count": null,
   "metadata": {},
   "outputs": [],
   "source": []
  }
 ],
 "metadata": {
  "anaconda-cloud": {},
  "kernel_info": {
   "name": "python3"
  },
  "kernelspec": {
   "display_name": "Python 3",
   "language": "python",
   "name": "python3"
  },
  "language_info": {
   "codemirror_mode": {
    "name": "ipython",
    "version": 3
   },
   "file_extension": ".py",
   "mimetype": "text/x-python",
   "name": "python",
   "nbconvert_exporter": "python",
   "pygments_lexer": "ipython3",
   "version": "3.7.6"
  },
  "latex_envs": {
   "LaTeX_envs_menu_present": true,
   "autoclose": false,
   "autocomplete": true,
   "bibliofile": "biblio.bib",
   "cite_by": "apalike",
   "current_citInitial": 1,
   "eqLabelWithNumbers": true,
   "eqNumInitial": 1,
   "hotkeys": {
    "equation": "Ctrl-E",
    "itemize": "Ctrl-I"
   },
   "labels_anchors": false,
   "latex_user_defs": false,
   "report_style_numbering": false,
   "user_envs_cfg": false
  },
  "nteract": {
   "version": "0.12.3"
  }
 },
 "nbformat": 4,
 "nbformat_minor": 2
}
